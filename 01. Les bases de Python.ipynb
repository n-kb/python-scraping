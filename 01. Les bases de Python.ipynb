{
 "cells": [
  {
   "cell_type": "markdown",
   "metadata": {},
   "source": [
    "# 01. Les bases de Python\n",
    "\n",
    "Dans ce cours:\n",
    "- Hello World\n",
    "- Jupyter\n",
    "- Les types de variables\n",
    "- Opérations mathématiques sur des variables\n",
    "- Concaténation\n",
    "- Opérations sur le texte\n",
    "- Les fonctions"
   ]
  },
  {
   "cell_type": "code",
   "execution_count": null,
   "metadata": {},
   "outputs": [],
   "source": [
    "# Je suis un commentaire\n",
    "print(\"Hello World!\")\n",
    "\n",
    "# print() est une *fonction* qui affiche un message dans la console. Maj+Entrée pour essayer."
   ]
  },
  {
   "cell_type": "markdown",
   "metadata": {},
   "source": [
    "## Le programme Jupyter\n",
    "\n",
    "Jupyter est un programme qui permet d'éxecuter le code Python dans son navigateur.\n",
    "\n",
    "Un notebook est divisé en cellules, qui peuvent être de deux types: Du texte au format Markdown (comme ici) ou du code Python (comme dans la cellule de dessus).\n",
    "\n",
    "Une cellule de code a un input et un output, si le programme que l'on a codé doit afficher quelque chose (ou une erreur).\n",
    "\n",
    "Les valeurs que l'on déclare dans une cellule sont disponibles pour les autres cellules.\n",
    "\n",
    "Racourcis utiles: \n",
    "- Maj + Entrée pour éxecuter une cellule.\n",
    "- Touche tabulation pour effectuer une autocompletion."
   ]
  },
  {
   "cell_type": "code",
   "execution_count": null,
   "metadata": {},
   "outputs": [],
   "source": [
    "# Une *variable* est une \"boîte\" qui contient une valeur.\n",
    "# La valeur peut être du texte, on parle alors de chaîne de caractères.\n",
    "\n",
    "mon_nom = \"Nicolas\"\n",
    "\n",
    "print(mon_nom)"
   ]
  },
  {
   "cell_type": "code",
   "execution_count": null,
   "metadata": {},
   "outputs": [],
   "source": [
    "# On peut lui *assigner* une autre valeur\n",
    "\n",
    "mon_nom = \"Sanchez\"\n",
    "\n",
    "print(mon_nom)"
   ]
  },
  {
   "cell_type": "code",
   "execution_count": null,
   "metadata": {},
   "outputs": [],
   "source": [
    "# Il existe aussi des variables numériques.\n",
    "# Des nombres entiers\n",
    "\n",
    "mon_age = 32\n",
    "\n",
    "# Ou des nombres flottants, c'est à dire avec des décimales\n",
    "ma_taille = 1.70\n",
    "\n",
    "# Pour nommer ses variables:\n",
    "# - Pas d'espaces!\n",
    "# - Pas de tirets!\n",
    "# - Ne pas commencer par un chiffre\n",
    "# - Essayer de garder une cohérence pour vous y retrouver, e.g. monAge et maTaille (camelcase)"
   ]
  },
  {
   "cell_type": "code",
   "execution_count": null,
   "metadata": {},
   "outputs": [],
   "source": [
    "### Excercice: Opérations ###\n",
    "\n",
    "# Affichez le taux de chômage en France\n",
    "# Source: https://www.insee.fr/fr/statistiques/1906671?sommaire=1906743\n",
    "\n",
    "population = 65\n",
    "population_active = 28.6\n",
    "chomeurs = 2.8\n",
    "\n",
    "taux_de_chomage = ???"
   ]
  },
  {
   "cell_type": "code",
   "execution_count": null,
   "metadata": {},
   "outputs": [],
   "source": [
    "# Pour assembler des variables de texte, on parle de concatenation\n",
    "\n",
    "print(\"Bonjour \" + mon_nom)"
   ]
  },
  {
   "cell_type": "code",
   "execution_count": null,
   "metadata": {},
   "outputs": [],
   "source": [
    "# On peut aussi utiliser la notation suivante (plus lisible)\n",
    "\n",
    "print(\"Bonjour %s\" % mon_nom)"
   ]
  },
  {
   "cell_type": "code",
   "execution_count": null,
   "metadata": {},
   "outputs": [],
   "source": [
    "# Quand on veut concaténer plus de deux chaînes de caractères, on les regroupe dans une parenthèse:\n",
    "\n",
    "print(\"Je m'appelle %s et j'ai %s ans\" % (mon_nom, mon_age))"
   ]
  },
  {
   "cell_type": "code",
   "execution_count": null,
   "metadata": {},
   "outputs": [],
   "source": [
    "### Excercice: Concaténation ###\n",
    "\n",
    "# Affichez l'adresse e-mail correspondante, au format nom.prenom@elysee.fr\n",
    "\n",
    "prenom = \"emmanuel\"\n",
    "nom = \"macron\"\n",
    "domain = \"elysee.fr\"\n",
    "\n",
    "email = ???"
   ]
  },
  {
   "cell_type": "code",
   "execution_count": null,
   "metadata": {},
   "outputs": [],
   "source": [
    "# Pour chaque type de variables, Python propose par défaut certaines fonctions.\n",
    "\n",
    "# Pour passer un texte en minuscules: lower()\n",
    "mon_nom_en_minuscules = mon_nom.lower()\n",
    "\n",
    "print(mon_nom_en_minuscules, mon_nom)\n",
    "\n",
    "# Pour remplacer un caractère: remplace(ancien, nouveau)\n",
    "\n",
    "mon_nom_sans_a = mon_nom.replace(\"a\", \"\")\n",
    "print(mon_nom_sans_a, mon_nom)\n",
    "\n",
    "# On peut chaîner des fonctions\n",
    "print(mon_nom.replace(\"a\", \"\").lower())"
   ]
  },
  {
   "cell_type": "code",
   "execution_count": null,
   "metadata": {},
   "outputs": [],
   "source": [
    "# On peut créer ses propres fonctions.\n",
    "# Une fonction a un nom et un ou plusieurs arguments.\n",
    "# Elle a aussi une valeur qu'elle retourne au code lorsqu'elle est appellée\n",
    "\n",
    "def mettre_en_minuscules(texte):\n",
    "    print(\"La fonction mettre_en_minuscules est exécutée.\")\n",
    "    return texte.lower()\n",
    "\n",
    "# Très important: Les limites de la fonction sont déterminées par l'indentation du code!\n",
    "\n",
    "print(mettre_en_minuscules(\"SANCHEZ\"))\n",
    "print(mettre_en_minuscules(\"KAYSER-BRIL\"))"
   ]
  },
  {
   "cell_type": "code",
   "execution_count": null,
   "metadata": {},
   "outputs": [],
   "source": [
    "### Excercice: Fonction ###\n",
    "\n",
    "def emailify(name, domain):\n",
    "    '''\n",
    "     Ce code doit:\n",
    "     1) remplacer les epsaces par des\n",
    "     2) convertir en minuscule\n",
    "     3) remplacer les caractères spéciaux (é, è, ë) par des caractères non-accentués\n",
    "     4) afficher le resutat\n",
    "     5) retourner le resutat\n",
    "    '''\n",
    "    \n",
    "\n",
    "emailify(\"Mathilde ANDROUËT\", \"iledefrance.fr\")\n",
    "emailify(\"Clémentine AUTAIN\", \"iledefrance.fr\")\n",
    "emailify(\"Nadège AZZAZ\", \"iledefrance.fr\")\n",
    "emailify(\"Marie-Pierre BADRÉ\", \"iledefrance.fr\")\n",
    "emailify(\"Charlotte BAELDE\", \"iledefrance.fr\")"
   ]
  },
  {
   "cell_type": "code",
   "execution_count": null,
   "metadata": {},
   "outputs": [],
   "source": [
    "### Excercice: Fonction ###\n",
    "\n",
    "def write_story(city, chomage_2009, chomage_2016):\n",
    "    \"\"\"\n",
    "    Générer une variable article qui, pour chaque ville, est de la forme suivante:\n",
    "    A Paris, le chômage en 2016 était de 8.4%, alors qu'il n'était que de 7.8% en 2009. \n",
    "    C'est une augmentation de 0.6 points de pourcentage.\n",
    "    \"\"\"\n",
    "    print(article)\n",
    "\n",
    "\"\"\"\n",
    "Tests du robot!\n",
    "Source: https://www.insee.fr/fr/statistiques/1893230\n",
    "\"\"\"\n",
    "\n",
    "\n",
    "write_story(\"Lyon\", 8.3, 8.8)\n",
    "print '*****************'\n",
    "write_story(\"Marseille\", 11.5, 12.1)\n",
    "print '*****************'\n",
    "write_story(\"Paris\", 7.8, 8.4)\n",
    "print '*****************'\n",
    "write_story(\"Saint-Nazaire\", 8.4, 8.7)\n",
    "print '*****************'\n",
    "write_story(\"Tours\", 7.8, 9.1)"
   ]
  }
 ],
 "metadata": {
  "kernelspec": {
   "display_name": "Python 3",
   "language": "python",
   "name": "python3"
  },
  "language_info": {
   "codemirror_mode": {
    "name": "ipython",
    "version": 3
   },
   "file_extension": ".py",
   "mimetype": "text/x-python",
   "name": "python",
   "nbconvert_exporter": "python",
   "pygments_lexer": "ipython3",
   "version": "3.5.2"
  }
 },
 "nbformat": 4,
 "nbformat_minor": 2
}
