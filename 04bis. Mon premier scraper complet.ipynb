{
 "cells": [
  {
   "cell_type": "markdown",
   "metadata": {},
   "source": [
    "# #CarbonaraGate\n",
    "\n",
    "Un débat anime Twitter depuis des mois: Y a-t-il de la crème dans la sauce Carbonara?\n",
    "\n",
    "Pour trouver la réponse, vous allez scraper toutes les recettes de Marmiton.org qui contiennent \"carbonara\" dans le titre, en extraire les ingrédients et compter combien d'entre elles contiennent de la crème."
   ]
  },
  {
   "cell_type": "markdown",
   "metadata": {},
   "source": [
    "### Marche à suivre\n",
    "\n",
    "Aller sur:\n",
    "http://www.marmiton.org/recettes/recherche.aspx?aqt=carbonara&start=0\n",
    "\n",
    "Observer la structure de la page en utilisant l'inspecteur.\n",
    "\n",
    "Observer la structure de la pagination pour passer d'une page de résultats à l'autre.\n",
    "\n",
    "Créer un scraper pour **une seule** page.\n",
    "\n",
    "Vérifier qu'il fonctionne bien. Ne pas hésiter à le faire tourner plusieurs fois afin de valider chaque étape du développement.\n",
    "\n",
    "Une fois qu'on a le résultat souhaité pour une page, modifier ou rajouter la boucle afin de scraper les dix autres pages.\n",
    "\n",
    "Astuce 1:\n",
    "\n",
    "`for nombre in range (0, 10):` produit une suite [0,1,2...9]\n",
    "\n",
    "`for nombre in range (0, 100, 5):` produit une suite [0,5,10...95]\n",
    "\n",
    "Astuce 2:\n",
    "\n",
    "Vous aurez peut-etre besoin de forcer la conversion d'un objet Soup en chaîne de caractère. Pour cela, utilisez la fonction `str()`. Ex: `soup_chaîne_de_caractères = str(soup)`"
   ]
  }
 ],
 "metadata": {
  "kernelspec": {
   "display_name": "Python 3",
   "language": "python",
   "name": "python3"
  },
  "language_info": {
   "codemirror_mode": {
    "name": "ipython",
    "version": 3
   },
   "file_extension": ".py",
   "mimetype": "text/x-python",
   "name": "python",
   "nbconvert_exporter": "python",
   "pygments_lexer": "ipython3",
   "version": "3.5.2"
  }
 },
 "nbformat": 4,
 "nbformat_minor": 2
}
