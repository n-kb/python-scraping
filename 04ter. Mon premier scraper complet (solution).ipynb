{
 "cells": [
  {
   "cell_type": "markdown",
   "metadata": {},
   "source": [
    "# #CarbonaraGate\n",
    "\n",
    "Un débat anime Twitter depuis des mois: Y a-t-il de la crème dans la sauce Carbonara?\n",
    "\n",
    "Pour trouver la réponse, vous allez scraper toutes les recettes de Marmiton.org qui contiennent \"carbonara\" dans le titre, en extraire les ingrédients et compter combien d'entre elles contiennent de la crème."
   ]
  },
  {
   "cell_type": "code",
   "execution_count": null,
   "metadata": {},
   "outputs": [],
   "source": [
    "import requests, time, random\n",
    "from bs4 import BeautifulSoup\n",
    "\n",
    "def getPage(url):\n",
    "    time.sleep(1 + random.random())\n",
    "    print(\"Scraping page %s\" % url)\n",
    "    r = requests.get(url)\n",
    "    if r.status_code == 200:\n",
    "        soup = BeautifulSoup(r.text, 'html.parser')\n",
    "    else:\n",
    "        raise Exception(\"Une erreur est survenue lors de la requête de la page %s\" % url)\n",
    "    return soup\n",
    "\n",
    "\n",
    "# Initialisation des variables\n",
    "contient_creme = 0\n",
    "data_recettes = []\n",
    "\n",
    "for start in range(0, 100, 12):\n",
    "    url = \"http://www.marmiton.org/recettes/recherche.aspx?aqt=carbonara&start=%d\" % start\n",
    "    \n",
    "    soup = getPage(url)\n",
    "    \n",
    "    recettes = soup.find_all(\"a\", {\"class\": \"recipe-card\"})\n",
    "    \n",
    "    for recette in recettes:\n",
    "        titre = recette.find(\"h4\").text.strip()\n",
    "        desc = recette.find(\"div\", {\"class\": \"recipe-card__description\"})\n",
    "        # La description des recettes est soit\n",
    "        # <b>Ingrédients</b> : poivre, o...sel, carotte<br>Eplucher les\n",
    "        # <b>Ingrédients</b> : muscade, ... fraîche<br/>Faites revenir l oignon\n",
    "        # On sépare les ingrédients du reste en divisant la chaîne de caractères sur <br (et non pas <br> ou <br/>)\n",
    "        ingredients = str(desc).split(\"<br\")[0]\n",
    "        \n",
    "        # Inconvénient de cette méthode: On doit supprimer manuellement les éléments HTML restants qui ne nous intéressent pas\n",
    "        ingredients = ingredients.replace('<div class=\"recipe-card__description\">', \"\").replace('<b>Ingrédients</b> : ', \"\")\n",
    "        \n",
    "        if \"crème\" in ingredients:\n",
    "            contient_creme += 1\n",
    "        \n",
    "        data_recettes.append({\n",
    "            \"titre\": titre,\n",
    "            \"ingrédients\": ingredients\n",
    "        })\n",
    "\n",
    "total_recettes = len(data_recettes)\n",
    "ratio_creme = contient_creme/total_recettes * 100\n",
    "\n",
    "print(\"Nous avons analysé %d recettes de carbonara. %.1f%% d'entre elles contiennent de la crème.\" % (total_recettes, ratio_creme))"
   ]
  }
 ],
 "metadata": {
  "kernelspec": {
   "display_name": "Python 3",
   "language": "python",
   "name": "python3"
  },
  "language_info": {
   "codemirror_mode": {
    "name": "ipython",
    "version": 3
   },
   "file_extension": ".py",
   "mimetype": "text/x-python",
   "name": "python",
   "nbconvert_exporter": "python",
   "pygments_lexer": "ipython3",
   "version": "3.5.2"
  }
 },
 "nbformat": 4,
 "nbformat_minor": 2
}
